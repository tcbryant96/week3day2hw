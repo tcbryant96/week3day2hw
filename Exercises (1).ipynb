{
 "cells": [
  {
   "cell_type": "markdown",
   "metadata": {},
   "source": [
    "#### Exercise 1 - Class Inheritance"
   ]
  },
  {
   "cell_type": "markdown",
   "metadata": {},
   "source": [
    "Create an Employee class that sets an employee's first name, last name, job title, salary, and email. The Employee class should have a class attribute for the raise amount set to 5% (1.05). Create a method that will apply the raise to an employee's salary."
   ]
  },
  {
   "cell_type": "code",
   "execution_count": 3,
   "metadata": {},
   "outputs": [
    {
     "name": "stdout",
     "output_type": "stream",
     "text": [
      "<__main__.employee object at 0x000001349BE80910>\n",
      "{'first': 'Trevor', 'name': 'Bryant', 'job': 'Developer', 'salary': 50000, 'email': 'fake@gmail.com'}\n"
     ]
    },
    {
     "data": {
      "text/plain": [
       "52500.0"
      ]
     },
     "execution_count": 3,
     "metadata": {},
     "output_type": "execute_result"
    }
   ],
   "source": [
    "class employee:\n",
    "    def __init__(self, first, name, job, salary, email):\n",
    "        self.first= first\n",
    "        self.name= name\n",
    "        self.job= job\n",
    "        self.salary= salary\n",
    "        self.email= email\n",
    "        \n",
    "    def increase(self):\n",
    "        self.increase = (self.salary) *1.05\n",
    "        return self.increase\n",
    "emp1 = employee(\"Trevor\", \"Bryant\", \"Developer\", 50000, \"fake@gmail.com\")\n",
    "print(emp1)\n",
    "print(emp1.__dict__)\n",
    "emp1.increase()"
   ]
  },
  {
   "cell_type": "markdown",
   "metadata": {},
   "source": [
    "Create two more classes that inherit from the Employee class. One for Sales and one for Development. Both of these classes will have the same attributes as the Employee.<br>\n",
    "- For the Sales employees, add a phone number attribute on instantiation using the super method. \n",
    "- Create a method on the Sales class that will Send a Follow Up Email. It should take in a customer name and \"send\" aka print a formatted email \"Dear *customer*, Thank you for your interest in our product. Please let me know if you have any questions. My email is *email* or my phone number is *phone number*. Thanks, *full name*\"\n",
    "- Create a method on the Development class called code that will print out \"*full name* is writing code\"."
   ]
  },
  {
   "cell_type": "code",
   "execution_count": 44,
   "metadata": {},
   "outputs": [
    {
     "name": "stdout",
     "output_type": "stream",
     "text": [
      "{'first': 'Trevor', 'name': 'Bryant', 'job': 'Developer', 'salary': 50000, 'email': 'fake@gmail.com', 'phone_number': '555-555-555'}\n",
      "Trevor Bryant is writing code\n"
     ]
    }
   ],
   "source": [
    "\n",
    "\n",
    "class sales(employee):\n",
    "\n",
    "    def __init__(self, first, name, job, salary, email, phone_number):\n",
    "        super().__init__(first, name, job, salary, email)\n",
    "        self.phone_number= phone_number\n",
    "        \n",
    "    def follow_up(self, customer_first):\n",
    "        print(f\"Dear {customer_first}, Thank you for your interest in our product. Please let me know if you have any questions. My email is {self.email} or my phone number is {self.phone_number}. Thanks, {self.first} {self.name}.\")\n",
    "class development(employee):\n",
    "    \n",
    "    def __init__(self, first, name, job, salary, email):\n",
    "        employee.__init__(self,first, name, job, salary, email)\n",
    "        \n",
    "        \n",
    "    def coding(self):\n",
    "        print(f'{self.first} {self.name} is writing code')\n",
    "    \n",
    "emp1= sales(\"Trevor\", \"Bryant\", \"Developer\", 50000, \"fake@gmail.com\",\"555-555-555\")\n",
    "print(emp1.__dict__)\n",
    "emp1 = development(\"Trevor\", \"Bryant\", \"Developer\", 50000, \"fake@gmail.com\")\n",
    "\n",
    "emp1.coding()"
   ]
  },
  {
   "cell_type": "markdown",
   "metadata": {},
   "source": [
    "- Create an instance of a Sales Employee with a salary of $50,000.\n",
    "- Send follow up emails to \"Mike O'Neil\" and \"Hannah Stern\"\n",
    "- Give the employee a raise and print the salary"
   ]
  },
  {
   "cell_type": "code",
   "execution_count": 43,
   "metadata": {},
   "outputs": [
    {
     "name": "stdout",
     "output_type": "stream",
     "text": [
      "Dear Mike O'Neil, Thank you for your interest in our product. Please let me know if you have any questions. My email is fake@gmail.com or my phone number is 555-555-555. Thanks, Trevor Bryant\n"
     ]
    }
   ],
   "source": [
    "emp2 = sales(\"Trevor\", \"Bryant\", \"Developer\", 50000, \"fake@gmail.com\",\"555-555-555\")\n",
    "emp2.follow_up(\"Mike O'Neil\")"
   ]
  },
  {
   "cell_type": "markdown",
   "metadata": {},
   "source": [
    "- Create an instance of a Development Employee with a salary of $100,000\n",
    "- Write some code with this employee\n",
    "- Give the employee a raise and print the salary"
   ]
  },
  {
   "cell_type": "code",
   "execution_count": 41,
   "metadata": {},
   "outputs": [
    {
     "name": "stdout",
     "output_type": "stream",
     "text": [
      "Trevor Bryant is writing code\n"
     ]
    },
    {
     "data": {
      "text/plain": [
       "105000.0"
      ]
     },
     "execution_count": 41,
     "metadata": {},
     "output_type": "execute_result"
    }
   ],
   "source": [
    "emp3 =  development(\"Trevor\", \"Bryant\", \"Developer\", 100000, \"fake@gmail.com\")\n",
    "emp3.coding()\n",
    "emp3.increase()"
   ]
  },
  {
   "cell_type": "markdown",
   "metadata": {},
   "source": [
    "#### Exercise 2 - Importing Modules"
   ]
  },
  {
   "cell_type": "markdown",
   "metadata": {},
   "source": [
    "In VS Code, create a module titled `geometry` and add two functions in there. One that will calculate the area of a circle given a radius. The second will find the hypotenuse of a right angle given the two sides. Import the module or the functions from the module and use it to find the answers to the below questions"
   ]
  },
  {
   "cell_type": "markdown",
   "metadata": {},
   "source": [
    "What is the area of a circle with a radius of 7cm?"
   ]
  },
  {
   "cell_type": "code",
   "execution_count": 47,
   "metadata": {},
   "outputs": [
    {
     "data": {
      "text/plain": [
       "43.96"
      ]
     },
     "execution_count": 47,
     "metadata": {},
     "output_type": "execute_result"
    }
   ],
   "source": [
    "import test_module\n",
    "test_module.circle_area(7)"
   ]
  },
  {
   "cell_type": "markdown",
   "metadata": {},
   "source": [
    "What is the hypotenuse of a right angle with sides of 3in and 4in?"
   ]
  },
  {
   "cell_type": "code",
   "execution_count": 46,
   "metadata": {},
   "outputs": [
    {
     "name": "stdout",
     "output_type": "stream",
     "text": [
      "This is the test module\n"
     ]
    },
    {
     "data": {
      "text/plain": [
       "5.0"
      ]
     },
     "execution_count": 46,
     "metadata": {},
     "output_type": "execute_result"
    }
   ],
   "source": [
    "\n",
    "\n",
    "\n",
    "test_module.hypot(3,4)\n"
   ]
  },
  {
   "cell_type": "code",
   "execution_count": null,
   "metadata": {},
   "outputs": [],
   "source": []
  },
  {
   "cell_type": "code",
   "execution_count": null,
   "metadata": {},
   "outputs": [],
   "source": []
  }
 ],
 "metadata": {
  "kernelspec": {
   "display_name": "Python 3 (ipykernel)",
   "language": "python",
   "name": "python3"
  },
  "language_info": {
   "codemirror_mode": {
    "name": "ipython",
    "version": 3
   },
   "file_extension": ".py",
   "mimetype": "text/x-python",
   "name": "python",
   "nbconvert_exporter": "python",
   "pygments_lexer": "ipython3",
   "version": "3.9.12"
  }
 },
 "nbformat": 4,
 "nbformat_minor": 4
}
